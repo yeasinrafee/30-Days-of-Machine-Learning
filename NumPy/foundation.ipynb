{
 "cells": [
  {
   "cell_type": "markdown",
   "id": "66ce2a0a",
   "metadata": {},
   "source": [
    "## Numpy array and basic"
   ]
  },
  {
   "cell_type": "code",
   "execution_count": 3,
   "id": "dff26f58",
   "metadata": {},
   "outputs": [],
   "source": [
    "import numpy as np"
   ]
  },
  {
   "cell_type": "markdown",
   "id": "0917813e",
   "metadata": {},
   "source": [
    "## Creating array from list"
   ]
  },
  {
   "cell_type": "code",
   "execution_count": 4,
   "id": "4330230a",
   "metadata": {},
   "outputs": [
    {
     "name": "stdout",
     "output_type": "stream",
     "text": [
      "1D array:  [1 2 3 4 5]\n",
      "1D array:  [1 2 3 4 5]\n"
     ]
    }
   ],
   "source": [
    "arr_1d = np.array([1, 2, 3, 4, 5])\n",
    "print(\"1D array: \", arr_1d)\n",
    "\n",
    "arr_2d = np.array([[1, 2, 3], [4, 5, 6]])\n",
    "print(\"1D array: \", arr_1d)\n"
   ]
  },
  {
   "cell_type": "markdown",
   "id": "172b1f61",
   "metadata": {},
   "source": [
    "### List vs numpy array"
   ]
  },
  {
   "cell_type": "code",
   "execution_count": 5,
   "id": "63374089",
   "metadata": {},
   "outputs": [
    {
     "name": "stdout",
     "output_type": "stream",
     "text": [
      "Python list multiplication  [1, 2, 3, 1, 2, 3]\n",
      "Python array multiplication  [2 4 6]\n"
     ]
    }
   ],
   "source": [
    "py_list = [1, 2, 3]\n",
    "print(\"Python list multiplication \", py_list * 2)\n",
    "\n",
    "np_array = np.array([1, 2, 3])      # element wise multiplication\n",
    "print(\"Python array multiplication \", np_array * 2)"
   ]
  },
  {
   "cell_type": "markdown",
   "id": "de24075c",
   "metadata": {},
   "source": [
    "## Creating array from scratch"
   ]
  },
  {
   "cell_type": "code",
   "execution_count": 6,
   "id": "88803e1d",
   "metadata": {},
   "outputs": [
    {
     "name": "stdout",
     "output_type": "stream",
     "text": [
      "zeros array: \n",
      " [[0. 0. 0. 0.]\n",
      " [0. 0. 0. 0.]\n",
      " [0. 0. 0. 0.]]\n",
      "one array: \n",
      " [[1. 1. 1.]\n",
      " [1. 1. 1.]]\n",
      "full array: \n",
      " [[7 7]\n",
      " [7 7]]\n",
      "random array: \n",
      " [[0.54009492 0.48147751 0.47104653]\n",
      " [0.79804365 0.07103045 0.78824547]]\n",
      "Sequence array: \n",
      " [ 0  2  4  6  8 10]\n"
     ]
    }
   ],
   "source": [
    "zeros = np.zeros((3, 4))\n",
    "print(\"zeros array: \\n\", zeros)\n",
    "\n",
    "ones = np.ones((2, 3))\n",
    "print(\"one array: \\n\", ones)\n",
    "\n",
    "full = np.full((2, 2), 7)\n",
    "print(\"full array: \\n\", full)\n",
    "\n",
    "random = np.random.random((2, 3))\n",
    "print(\"random array: \\n\", random)\n",
    "\n",
    "sequence = np.arange(0, 11, 2)\n",
    "print(\"Sequence array: \\n\", sequence)"
   ]
  },
  {
   "cell_type": "markdown",
   "id": "8ce10d99",
   "metadata": {},
   "source": [
    "## Vector, Matrix and Tensor"
   ]
  },
  {
   "cell_type": "code",
   "execution_count": 7,
   "id": "a561c18f",
   "metadata": {},
   "outputs": [
    {
     "name": "stdout",
     "output_type": "stream",
     "text": [
      "Vector:  [1 2 3]\n",
      "Matrix:  [[1 2 3]\n",
      " [4 5 6]]\n",
      "Tensor:  [[[1 2]\n",
      "  [3 4]]\n",
      "\n",
      " [[5 6]\n",
      "  [7 4]]]\n"
     ]
    }
   ],
   "source": [
    "vector = np.array([1, 2, 3])\n",
    "print(\"Vector: \", vector)\n",
    "\n",
    "matrix = np.array([[1, 2, 3],\n",
    "                   [4, 5, 6]])\n",
    "print(\"Matrix: \", matrix)\n",
    "\n",
    "tensor = np.array([[[1, 2], [3, 4]],\n",
    "                   [[5, 6], [7, 4]]])\n",
    "print(\"Tensor: \", tensor)"
   ]
  },
  {
   "cell_type": "markdown",
   "id": "424b387f",
   "metadata": {},
   "source": [
    "## Array Properties:"
   ]
  },
  {
   "cell_type": "code",
   "execution_count": null,
   "id": "f0f8ee53",
   "metadata": {},
   "outputs": [
    {
     "name": "stdout",
     "output_type": "stream",
     "text": [
      "Shape:  (2, 3)\n",
      "Dimension:  2\n",
      "Size:  6\n",
      "DType:  int64\n"
     ]
    }
   ],
   "source": [
    "arr = np.array([[1, 2, 3],\n",
    "               [4, 5, 6]])\n",
    "print(\"Shape: \", arr.shape)\n",
    "print(\"Dimension: \", arr.ndim)\n",
    "print(\"Size: \", arr.size)\n",
    "print(\"DType: \", arr.dtype)"
   ]
  },
  {
   "cell_type": "markdown",
   "id": "e55705d8",
   "metadata": {},
   "source": [
    "## Array Reshaping"
   ]
  },
  {
   "cell_type": "code",
   "execution_count": 12,
   "id": "6632db0d",
   "metadata": {},
   "outputs": [
    {
     "name": "stdout",
     "output_type": "stream",
     "text": [
      "Original array:  [ 0  1  2  3  4  5  6  7  8  9 10 11]\n",
      "Reshaped array:  [[ 0  1  2  3]\n",
      " [ 4  5  6  7]\n",
      " [ 8  9 10 11]]\n",
      "Flattened array:  [ 0  1  2  3  4  5  6  7  8  9 10 11]\n",
      "Raveled array:  [ 0  1  2  3  4  5  6  7  8  9 10 11]\n",
      "Transposed array:  [[ 0  4  8]\n",
      " [ 1  5  9]\n",
      " [ 2  6 10]\n",
      " [ 3  7 11]]\n"
     ]
    }
   ],
   "source": [
    "arr = np.arange(12)\n",
    "print(\"Original array: \", arr)\n",
    "\n",
    "reshaped = arr.reshape((3, 4))\n",
    "print(\"Reshaped array: \", reshaped)\n",
    "\n",
    "flattened = reshaped.flatten()\n",
    "print(\"Flattened array: \", flattened)\n",
    "\n",
    "# ravel (returns view, instead of copy)\n",
    "raveled = reshaped.ravel()\n",
    "print(\"Raveled array: \", raveled)\n",
    "\n",
    "# Transpose\n",
    "transpose = reshaped.T\n",
    "print(\"Transposed array: \", transpose)"
   ]
  }
 ],
 "metadata": {
  "kernelspec": {
   "display_name": "venv",
   "language": "python",
   "name": "python3"
  },
  "language_info": {
   "codemirror_mode": {
    "name": "ipython",
    "version": 3
   },
   "file_extension": ".py",
   "mimetype": "text/x-python",
   "name": "python",
   "nbconvert_exporter": "python",
   "pygments_lexer": "ipython3",
   "version": "3.12.3"
  }
 },
 "nbformat": 4,
 "nbformat_minor": 5
}
